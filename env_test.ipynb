{
 "cells": [
  {
   "cell_type": "code",
   "execution_count": 1,
   "id": "4d864496-8848-4e2e-8137-8ad441097d6d",
   "metadata": {},
   "outputs": [
    {
     "name": "stderr",
     "output_type": "stream",
     "text": [
      "2024-06-12 11:25:51.019983: I tensorflow/core/platform/cpu_feature_guard.cc:182] This TensorFlow binary is optimized to use available CPU instructions in performance-critical operations.\n",
      "To enable the following instructions: SSE4.1 SSE4.2 AVX AVX2 FMA, in other operations, rebuild TensorFlow with the appropriate compiler flags.\n"
     ]
    },
    {
     "name": "stdout",
     "output_type": "stream",
     "text": [
      "[PhysicalDevice(name='/physical_device:GPU:0', device_type='GPU')]\n"
     ]
    },
    {
     "name": "stderr",
     "output_type": "stream",
     "text": [
      "2024-06-12 11:25:52.550104: I tensorflow/compiler/xla/stream_executor/cuda/cuda_gpu_executor.cc:995] successful NUMA node read from SysFS had negative value (-1), but there must be at least one NUMA node, so returning NUMA node zero. See more at https://github.com/torvalds/linux/blob/v6.0/Documentation/ABI/testing/sysfs-bus-pci#L344-L355\n",
      "2024-06-12 11:25:52.632885: I tensorflow/compiler/xla/stream_executor/cuda/cuda_gpu_executor.cc:995] successful NUMA node read from SysFS had negative value (-1), but there must be at least one NUMA node, so returning NUMA node zero. See more at https://github.com/torvalds/linux/blob/v6.0/Documentation/ABI/testing/sysfs-bus-pci#L344-L355\n",
      "2024-06-12 11:25:52.634604: I tensorflow/compiler/xla/stream_executor/cuda/cuda_gpu_executor.cc:995] successful NUMA node read from SysFS had negative value (-1), but there must be at least one NUMA node, so returning NUMA node zero. See more at https://github.com/torvalds/linux/blob/v6.0/Documentation/ABI/testing/sysfs-bus-pci#L344-L355\n"
     ]
    }
   ],
   "source": [
    "# Create and activate the new environment\n",
    "# conda create --name unet_env python=3.8\n",
    "# conda activate unet_env\n",
    "\n",
    "# Install TensorFlow from conda-forge\n",
    "# conda install -c conda-forge tensorflow\n",
    "\n",
    "# Install TensorFlow Addons using pip\n",
    "# pip install tensorflow-addons\n",
    "\n",
    "# Install OpenCV and other necessary libraries\n",
    "# pip install opencv-python imgaug albumentations\n",
    "\n",
    "# Verify TensorFlow GPU access\n",
    "import tensorflow as tf\n",
    "print(tf.config.list_physical_devices('GPU'))\n"
   ]
  },
  {
   "cell_type": "code",
   "execution_count": 2,
   "id": "2f1233ed-5b32-4c70-964d-cbae76960060",
   "metadata": {},
   "outputs": [
    {
     "name": "stdout",
     "output_type": "stream",
     "text": [
      "Verifying PyTorch installation...\n",
      "PyTorch version: 2.3.1+cu121\n",
      "CUDA is available. GPU will be used for computation.\n",
      "CUDA version: 12.1\n",
      "cuDNN version: 8907\n",
      "Number of GPUs: 1\n",
      "Verifying Torchvision installation...\n",
      "Torchvision version: 0.18.1+cu121\n"
     ]
    },
    {
     "name": "stderr",
     "output_type": "stream",
     "text": [
      "/home/harsh/anaconda3/envs/unet_env/lib/python3.8/site-packages/torchvision/models/_utils.py:208: UserWarning: The parameter 'pretrained' is deprecated since 0.13 and may be removed in the future, please use 'weights' instead.\n",
      "  warnings.warn(\n",
      "/home/harsh/anaconda3/envs/unet_env/lib/python3.8/site-packages/torchvision/models/_utils.py:223: UserWarning: Arguments other than a weight enum or `None` for 'weights' are deprecated since 0.13 and may be removed in the future. The current behavior is equivalent to passing `weights=None`.\n",
      "  warnings.warn(msg)\n"
     ]
    },
    {
     "name": "stdout",
     "output_type": "stream",
     "text": [
      "Torchvision model loaded successfully.\n",
      "Verifying OpenCV installation...\n",
      "OpenCV version: 4.10.0\n",
      "OpenCV basic functionality verified. Test image saved as 'opencv_test.png'.\n",
      "Verifying Pillow installation...\n",
      "Pillow version: 10.3.0\n",
      "Pillow basic functionality verified. Test image saved as 'pillow_test.png'.\n",
      "Verifying tqdm installation...\n",
      "tqdm version: 4.66.4\n"
     ]
    },
    {
     "name": "stderr",
     "output_type": "stream",
     "text": [
      "Testing tqdm: 100%|██████████████████████| 100/100 [00:00<00:00, 2369663.28it/s]"
     ]
    },
    {
     "name": "stdout",
     "output_type": "stream",
     "text": [
      "tqdm basic functionality verified.\n",
      "Environment verification completed successfully.\n"
     ]
    },
    {
     "name": "stderr",
     "output_type": "stream",
     "text": [
      "\n"
     ]
    }
   ],
   "source": [
    "import torch\n",
    "import torchvision\n",
    "import cv2\n",
    "import PIL\n",
    "from PIL import Image\n",
    "import numpy as np\n",
    "from tqdm import tqdm, __version__ as tqdm_version\n",
    "\n",
    "def verify_pytorch():\n",
    "    print(\"Verifying PyTorch installation...\")\n",
    "    print(f\"PyTorch version: {torch.__version__}\")\n",
    "    \n",
    "    # Check for CUDA\n",
    "    if torch.cuda.is_available():\n",
    "        print(\"CUDA is available. GPU will be used for computation.\")\n",
    "        print(f\"CUDA version: {torch.version.cuda}\")\n",
    "        print(f\"cuDNN version: {torch.backends.cudnn.version()}\")\n",
    "        print(f\"Number of GPUs: {torch.cuda.device_count()}\")\n",
    "    else:\n",
    "        print(\"CUDA is not available. Computation will be performed on CPU.\")\n",
    "\n",
    "def verify_torchvision():\n",
    "    print(\"Verifying Torchvision installation...\")\n",
    "    print(f\"Torchvision version: {torchvision.__version__}\")\n",
    "    \n",
    "    # Check basic functionality\n",
    "    model = torchvision.models.segmentation.deeplabv3_resnet50(pretrained=False)\n",
    "    print(\"Torchvision model loaded successfully.\")\n",
    "\n",
    "def verify_opencv():\n",
    "    print(\"Verifying OpenCV installation...\")\n",
    "    print(f\"OpenCV version: {cv2.__version__}\")\n",
    "    \n",
    "    # Check basic functionality\n",
    "    img = np.zeros((100, 100, 3), dtype=np.uint8)\n",
    "    cv2.putText(img, 'OpenCV', (5, 50), cv2.FONT_HERSHEY_SIMPLEX, 1, (255, 255, 255), 2)\n",
    "    cv2.imwrite('opencv_test.png', img)\n",
    "    print(\"OpenCV basic functionality verified. Test image saved as 'opencv_test.png'.\")\n",
    "\n",
    "def verify_pillow():\n",
    "    print(\"Verifying Pillow installation...\")\n",
    "    print(f\"Pillow version: {PIL.__version__}\")\n",
    "    \n",
    "    # Check basic functionality\n",
    "    img = Image.new('RGB', (100, 100), color = 'red')\n",
    "    img.save('pillow_test.png')\n",
    "    print(\"Pillow basic functionality verified. Test image saved as 'pillow_test.png'.\")\n",
    "\n",
    "def verify_tqdm():\n",
    "    print(\"Verifying tqdm installation...\")\n",
    "    print(f\"tqdm version: {tqdm_version}\")\n",
    "    \n",
    "    # Check basic functionality\n",
    "    for _ in tqdm(range(100), desc=\"Testing tqdm\"):\n",
    "        pass\n",
    "    print(\"tqdm basic functionality verified.\")\n",
    "\n",
    "if __name__ == \"__main__\":\n",
    "    verify_pytorch()\n",
    "    verify_torchvision()\n",
    "    verify_opencv()\n",
    "    verify_pillow()\n",
    "    verify_tqdm()\n",
    "    print(\"Environment verification completed successfully.\")\n"
   ]
  },
  {
   "cell_type": "code",
   "execution_count": 3,
   "id": "322edcb8-e20c-4f63-bdc0-cc1f48df925f",
   "metadata": {},
   "outputs": [
    {
     "name": "stdout",
     "output_type": "stream",
     "text": [
      "Num GPUs Available:  1\n",
      "Physical Devices:  [PhysicalDevice(name='/physical_device:GPU:0', device_type='GPU')]\n"
     ]
    },
    {
     "name": "stderr",
     "output_type": "stream",
     "text": [
      "2024-06-12 11:25:54.309359: I tensorflow/compiler/xla/stream_executor/cuda/cuda_gpu_executor.cc:995] successful NUMA node read from SysFS had negative value (-1), but there must be at least one NUMA node, so returning NUMA node zero. See more at https://github.com/torvalds/linux/blob/v6.0/Documentation/ABI/testing/sysfs-bus-pci#L344-L355\n",
      "2024-06-12 11:25:54.314826: I tensorflow/compiler/xla/stream_executor/cuda/cuda_gpu_executor.cc:995] successful NUMA node read from SysFS had negative value (-1), but there must be at least one NUMA node, so returning NUMA node zero. See more at https://github.com/torvalds/linux/blob/v6.0/Documentation/ABI/testing/sysfs-bus-pci#L344-L355\n",
      "2024-06-12 11:25:54.321676: I tensorflow/compiler/xla/stream_executor/cuda/cuda_gpu_executor.cc:995] successful NUMA node read from SysFS had negative value (-1), but there must be at least one NUMA node, so returning NUMA node zero. See more at https://github.com/torvalds/linux/blob/v6.0/Documentation/ABI/testing/sysfs-bus-pci#L344-L355\n",
      "2024-06-12 11:25:54.450568: I tensorflow/compiler/xla/stream_executor/cuda/cuda_gpu_executor.cc:995] successful NUMA node read from SysFS had negative value (-1), but there must be at least one NUMA node, so returning NUMA node zero. See more at https://github.com/torvalds/linux/blob/v6.0/Documentation/ABI/testing/sysf"
     ]
    },
    {
     "name": "stdout",
     "output_type": "stream",
     "text": [
      "Model: \"sequential\"\n",
      "_________________________________________________________________\n",
      " Layer (type)                Output Shape              Param #   \n",
      "=================================================================\n",
      " conv2d (Conv2D)             (None, 30, 30, 32)        896       \n",
      "                                                                 \n",
      " max_pooling2d (MaxPooling2  (None, 15, 15, 32)        0         \n",
      " D)                                                              \n",
      "                                                                 \n",
      " conv2d_1 (Conv2D)           (None, 13, 13, 64)        18496     \n",
      "                                                                 \n",
      " max_pooling2d_1 (MaxPoolin  (None, 6, 6, 64)          0         \n",
      " g2D)                                                            \n",
      "                                                                 \n",
      " conv2d_2 (Conv2D)           (None, 4, 4, 64)          36928     \n",
      "                                                                 \n",
      " flatten (Flatten)           (None, 1024)              0         \n",
      "                                                                 \n",
      " dense (Dense)               (None, 64)                65600     \n",
      "                                                                 \n",
      " dense_1 (Dense)             (None, 10)                650       \n",
      "                                                                 \n",
      "=================================================================\n",
      "Total params: 122570 (478.79 KB)\n",
      "Trainable params: 122570 (478.79 KB)\n",
      "Non-trainable params: 0 (0.00 Byte)\n",
      "_________________________________________________________________\n",
      "Epoch 1/5\n"
     ]
    },
    {
     "name": "stderr",
     "output_type": "stream",
     "text": [
      "s-bus-pci#L344-L355\n",
      "2024-06-12 11:25:54.452348: I tensorflow/compiler/xla/stream_executor/cuda/cuda_gpu_executor.cc:995] successful NUMA node read from SysFS had negative value (-1), but there must be at least one NUMA node, so returning NUMA node zero. See more at https://github.com/torvalds/linux/blob/v6.0/Documentation/ABI/testing/sysfs-bus-pci#L344-L355\n",
      "2024-06-12 11:25:54.453848: I tensorflow/compiler/xla/stream_executor/cuda/cuda_gpu_executor.cc:995] successful NUMA node read from SysFS had negative value (-1), but there must be at least one NUMA node, so returning NUMA node zero. See more at https://github.com/torvalds/linux/blob/v6.0/Documentation/ABI/testing/sysfs-bus-pci#L344-L355\n",
      "2024-06-12 11:25:54.455370: I tensorflow/core/common_runtime/gpu/gpu_device.cc:1639] Created device /job:localhost/replica:0/task:0/device:GPU:0 with 2824 MB memory:  -> device: 0, name: NVIDIA GeForce RTX 3060 Ti, pci bus id: 0000:2b:00.0, compute capability: 8.6\n",
      "2024-06-12 11:25:55.017846: I tensorflow/compiler/xla/stream_executor/cuda/cuda_dnn.cc:432] Loaded cuDNN version 8907\n",
      "2024-06-12 11:25:55.283000: I tensorflow/compiler/xla/stream_executor/cuda/cuda_blas.cc:606] TensorFloat-32 will be used for the matrix multiplication. This will only be logged once.\n",
      "2024-06-12 11:25:55.319005: I tensorflow/compiler/xla/service/service.cc:168] XLA service 0x7f6e72b64d40 initialized for platform CUDA (this does not guarantee that XLA will be used). Devices:\n",
      "2024-06-12 11:25:55.319034: I tensorflow/compiler/xla/service/service.cc:176]   StreamExecutor device (0): NVIDIA GeForce RTX 3060 Ti, Compute Capability 8.6\n",
      "2024-06-12 11:25:55.338608: I tensorflow/compiler/mlir/tensorflow/utils/dump_mlir_util.cc:255] disabling MLIR crash reproducer, set env var `MLIR_CRASH_REPRODUCER_DIRECTORY` to enable.\n",
      "2024-06-12 11:25:55.487390: I ./tensorflow/compiler/jit/device_compiler.h:186] Compiled cluster using XLA!  This line is logged at most once for the lifetime of the process.\n"
     ]
    },
    {
     "name": "stdout",
     "output_type": "stream",
     "text": [
      "10/10 [==============================] - 2s 3ms/step - loss: 2.3766 - accuracy: 0.1400\n",
      "Epoch 2/5\n",
      "10/10 [==============================] - 0s 2ms/step - loss: 2.2855 - accuracy: 0.1600\n",
      "Epoch 3/5\n",
      "10/10 [==============================] - 0s 2ms/step - loss: 2.2898 - accuracy: 0.1600\n",
      "Epoch 4/5\n",
      "10/10 [==============================] - 0s 2ms/step - loss: 2.2726 - accuracy: 0.1600\n",
      "Epoch 5/5\n",
      "10/10 [==============================] - 0s 2ms/step - loss: 2.2690 - accuracy: 0.1200\n",
      "4/4 [==============================] - 0s 15ms/step - loss: 2.2513 - accuracy: 0.1600\n",
      "Test loss: 2.251333713531494\n",
      "Test accuracy: 0.1599999964237213\n"
     ]
    }
   ],
   "source": [
    "# Verification Script\n",
    "\n",
    "\n",
    "import tensorflow as tf\n",
    "import numpy as np\n",
    "from tensorflow.keras import layers, models\n",
    "\n",
    "# Check TensorFlow GPU access\n",
    "print(\"Num GPUs Available: \", len(tf.config.list_physical_devices('GPU')))\n",
    "print(\"Physical Devices: \", tf.config.list_physical_devices('GPU'))\n",
    "\n",
    "# Define a simple CNN model for testing\n",
    "def simple_cnn_model(input_shape=(32, 32, 3), num_classes=10):\n",
    "    model = models.Sequential()\n",
    "    model.add(layers.Conv2D(32, (3, 3), activation='relu', input_shape=input_shape))\n",
    "    model.add(layers.MaxPooling2D((2, 2)))\n",
    "    model.add(layers.Conv2D(64, (3, 3), activation='relu'))\n",
    "    model.add(layers.MaxPooling2D((2, 2)))\n",
    "    model.add(layers.Conv2D(64, (3, 3), activation='relu'))\n",
    "    model.add(layers.Flatten())\n",
    "    model.add(layers.Dense(64, activation='relu'))\n",
    "    model.add(layers.Dense(num_classes, activation='softmax'))\n",
    "    model.compile(optimizer='adam', loss='sparse_categorical_crossentropy', metrics=['accuracy'])\n",
    "    return model\n",
    "\n",
    "# Create synthetic data for testing\n",
    "num_samples = 100\n",
    "input_shape = (32, 32, 3)\n",
    "num_classes = 10\n",
    "\n",
    "X_train = np.random.rand(num_samples, *input_shape)\n",
    "y_train = np.random.randint(0, num_classes, num_samples)\n",
    "\n",
    "# Define and compile the model\n",
    "model = simple_cnn_model(input_shape=input_shape, num_classes=num_classes)\n",
    "model.summary()\n",
    "\n",
    "# Train the model on the synthetic data\n",
    "model.fit(X_train, y_train, epochs=5, batch_size=10)\n",
    "\n",
    "# Evaluate the model\n",
    "loss, accuracy = model.evaluate(X_train, y_train)\n",
    "print(f\"Test loss: {loss}\")\n",
    "print(f\"Test accuracy: {accuracy}\")\n"
   ]
  },
  {
   "cell_type": "code",
   "execution_count": 4,
   "id": "45cbae21-d9a5-4057-87fa-73b4f0466332",
   "metadata": {},
   "outputs": [
    {
     "name": "stdout",
     "output_type": "stream",
     "text": [
      "Num GPUs Available:  1\n",
      "Physical Devices:  [PhysicalDevice(name='/physical_device:GPU:0', device_type='GPU')]\n",
      "Model: \"sequential_1\"\n",
      "_________________________________________________________________\n",
      " Layer (type)                Output Shape              Param #   \n",
      "=================================================================\n",
      " conv2d_3 (Conv2D)           (None, 30, 30, 32)        896       \n",
      "                                                                 \n",
      " max_pooling2d_2 (MaxPoolin  (None, 15, 15, 32)        0         \n",
      " g2D)                                                            \n",
      "                                                                 \n",
      " conv2d_4 (Conv2D)           (None, 13, 13, 64)        18496     \n",
      "                                                                 \n",
      " max_pooling2d_3 (MaxPoolin  (None, 6, 6, 64)          0         \n",
      " g2D)                                                            \n",
      "                                                                 \n",
      " conv2d_5 (Conv2D)           (None, 4, 4, 64)          36928     \n",
      "                                                                 \n",
      " flatten_1 (Flatten)         (None, 1024)              0         \n",
      "                                                                 \n",
      " dense_2 (Dense)             (None, 64)                65600     \n",
      "                                                                 \n",
      " dense_3 (Dense)             (None, 10)                650       \n",
      "                                                                 \n",
      "=================================================================\n",
      "Total params: 122570 (478.79 KB)\n",
      "Trainable params: 122570 (478.79 KB)\n",
      "Non-trainable params: 0 (0.00 Byte)\n",
      "_________________________________________________________________\n",
      "Epoch 1/5\n",
      "10/10 [==============================] - 1s 2ms/step - loss: 2.3395 - accuracy: 0.1400\n",
      "Epoch 2/5\n",
      "10/10 [==============================] - 0s 2ms/step - loss: 2.2887 - accuracy: 0.1700\n",
      "Epoch 3/5\n",
      "10/10 [==============================] - 0s 2ms/step - loss: 2.2811 - accuracy: 0.1300\n",
      "Epoch 4/5\n",
      "10/10 [==============================] - 0s 2ms/step - loss: 2.2631 - accuracy: 0.1900\n",
      "Epoch 5/5\n",
      "10/10 [==============================] - 0s 2ms/step - loss: 2.2609 - accuracy: 0.1600\n",
      "4/4 [==============================] - 0s 1ms/step - loss: 2.2296 - accuracy: 0.1600\n",
      "Test loss: 2.2295522689819336\n",
      "Test accuracy: 0.1599999964237213\n"
     ]
    }
   ],
   "source": [
    "import tensorflow as tf\n",
    "import numpy as np\n",
    "from tensorflow.keras import layers, models\n",
    "\n",
    "# Check TensorFlow GPU access\n",
    "print(\"Num GPUs Available: \", len(tf.config.list_physical_devices('GPU')))\n",
    "print(\"Physical Devices: \", tf.config.list_physical_devices('GPU'))\n",
    "\n",
    "# Define a simple CNN model for testing\n",
    "def simple_cnn_model(input_shape=(32, 32, 3), num_classes=10):\n",
    "    model = models.Sequential()\n",
    "    model.add(layers.Conv2D(32, (3, 3), activation='relu', input_shape=input_shape))\n",
    "    model.add(layers.MaxPooling2D((2, 2)))\n",
    "    model.add(layers.Conv2D(64, (3, 3), activation='relu'))\n",
    "    model.add(layers.MaxPooling2D((2, 2)))\n",
    "    model.add(layers.Conv2D(64, (3, 3), activation='relu'))\n",
    "    model.add(layers.Flatten())\n",
    "    model.add(layers.Dense(64, activation='relu'))\n",
    "    model.add(layers.Dense(num_classes, activation='softmax'))\n",
    "    model.compile(optimizer='adam', loss='sparse_categorical_crossentropy', metrics=['accuracy'])\n",
    "    return model\n",
    "\n",
    "# Create synthetic data for testing\n",
    "num_samples = 100\n",
    "input_shape = (32, 32, 3)\n",
    "num_classes = 10\n",
    "\n",
    "X_train = np.random.rand(num_samples, *input_shape)\n",
    "y_train = np.random.randint(0, num_classes, num_samples)\n",
    "\n",
    "# Define and compile the model\n",
    "model = simple_cnn_model(input_shape=input_shape, num_classes=num_classes)\n",
    "model.summary()\n",
    "\n",
    "# Train the model on the synthetic data\n",
    "model.fit(X_train, y_train, epochs=5, batch_size=10)\n",
    "\n",
    "# Evaluate the model\n",
    "loss, accuracy = model.evaluate(X_train, y_train)\n",
    "print(f\"Test loss: {loss}\")\n",
    "print(f\"Test accuracy: {accuracy}\")\n"
   ]
  },
  {
   "cell_type": "code",
   "execution_count": 5,
   "id": "d96475aa-c1f4-4b54-a592-4f73b21e4ad1",
   "metadata": {},
   "outputs": [
    {
     "name": "stdout",
     "output_type": "stream",
     "text": [
      "Num GPUs Available:  1\n"
     ]
    }
   ],
   "source": [
    "#  Verify cuDNN with Python\n",
    "\n",
    "import tensorflow as tf\n",
    "print(\"Num GPUs Available: \", len(tf.config.experimental.list_physical_devices('GPU')))\n"
   ]
  },
  {
   "cell_type": "code",
   "execution_count": 6,
   "id": "a87976d8-ea2b-45f4-befe-267054a670fc",
   "metadata": {},
   "outputs": [
    {
     "name": "stdout",
     "output_type": "stream",
     "text": [
      "True\n",
      "NVIDIA GeForce RTX 3060 Ti\n"
     ]
    }
   ],
   "source": [
    "# Verify cuDNN with Python\n",
    "\n",
    "import torch\n",
    "print(torch.cuda.is_available())\n",
    "print(torch.cuda.get_device_name(0))\n"
   ]
  },
  {
   "cell_type": "code",
   "execution_count": null,
   "id": "aedd16d0-71a1-4e86-b65a-e739b2b9991c",
   "metadata": {},
   "outputs": [],
   "source": []
  }
 ],
 "metadata": {
  "kernelspec": {
   "display_name": "Python 3 (ipykernel)",
   "language": "python",
   "name": "python3"
  },
  "language_info": {
   "codemirror_mode": {
    "name": "ipython",
    "version": 3
   },
   "file_extension": ".py",
   "mimetype": "text/x-python",
   "name": "python",
   "nbconvert_exporter": "python",
   "pygments_lexer": "ipython3",
   "version": "3.8.19"
  }
 },
 "nbformat": 4,
 "nbformat_minor": 5
}
